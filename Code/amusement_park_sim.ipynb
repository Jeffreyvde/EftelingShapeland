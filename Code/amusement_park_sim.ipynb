{
 "cells": [
  {
   "cell_type": "markdown",
   "metadata": {},
   "source": [
    "# Notebook Intentions\n",
    "\n",
    "The purpose of this notebook is to simulate an amusement park. \n"
   ],
   "id": "4ea40fe6c0121430"
  },
  {
   "cell_type": "code",
   "execution_count": 17,
   "metadata": {
    "ExecuteTime": {
     "end_time": "2024-03-22T15:12:09.159729Z",
     "start_time": "2024-03-22T15:12:09.156469Z"
    }
   },
   "outputs": [],
   "source": [
    "from park import Park\n",
    "from behavior_reference import BEHAVIOR_ARCHETYPE_PARAMETERS"
   ],
   "id": "ec7df7f80a9f9ca4"
  },
  {
   "cell_type": "markdown",
   "metadata": {},
   "source": [
    "### Book Keeping\n",
    "\n",
    "    - Version: dictates the location performance graphs are stored\n",
    "    - Verbosity: controls much information is displayed during a simulation, increase to show more info\n",
    "    - Show Plots: controls whether park plots are displayed in this notebook\n",
    "    - RNG Seed: seeds random number generators to enforce identical results across runs/machines\n",
    "    "
   ],
   "id": "7557dc9eb522d881"
  },
  {
   "cell_type": "code",
   "execution_count": 18,
   "metadata": {
    "ExecuteTime": {
     "end_time": "2024-03-22T15:12:09.175748Z",
     "start_time": "2024-03-22T15:12:09.173245Z"
    }
   },
   "outputs": [],
   "source": [
    "VERSION = \"20K All FP - MIKE\"\n",
    "VERBOSITY = 0\n",
    "SHOW_PLOTS = True\n",
    "RNG_SEED = 5\n"
   ],
   "id": "404011ec74983691"
  },
  {
   "cell_type": "markdown",
   "metadata": {},
   "source": [
    "## Park\n",
    " \n",
    "The park contains Agents, Attractions and Activities.\n",
    "\n",
    "- Total Daily Agents: dictates how many agents visit the park within a day\n",
    "- Hourly Percent: dictates what percentage of Total Daily Agents visits the park at each hour\n",
    "- Perfect Arrivals: enforces that the exact amount of Total Daily Agents arrives during the day\n",
    "- Expedited Pass Ability Percent: percent of agents aware of expeditied passes\n",
    "- Expedited Threshold: acceptable queue wait time length before searching for an expedited pass\n",
    "- Expedited Limit: total number of expedited pass an agent can hold at any given time\n"
   ],
   "id": "122788f44d1e3a88"
  },
  {
   "cell_type": "code",
   "execution_count": 19,
   "metadata": {
    "ExecuteTime": {
     "end_time": "2024-03-22T15:12:09.179403Z",
     "start_time": "2024-03-22T15:12:09.176753Z"
    }
   },
   "outputs": [],
   "source": [
    "TOTAL_DAILY_AGENTS = 2000000\n",
    "PERFECT_ARRIVALS = True\n",
    "HOURLY_PERCENT = {\n",
    "    \"10:00 AM\": 10,\n",
    "    \"11:00 AM\": 20,\n",
    "    \"12:00 AM\": 17,\n",
    "    \"3:00 PM\": 20,\n",
    "    \"4:00 PM\": 15,\n",
    "    \"5:00 PM\": 10,\n",
    "    \"6:00 PM\": 1,\n",
    "    \"7:00 PM\": 5,\n",
    "    \"8:00 PM\": 1,\n",
    "    \"9:00 PM\": 1,\n",
    "    \"10:00 PM\": 0,\n",
    "    \"11:00 PM\": 0,\n",
    "    \"12:00 PM\": 0\n",
    "}\n",
    "EXP_ABILITY_PCT = 1.0\n",
    "EXP_THRESHOLD = 1\n",
    "EXP_LIMIT = 3"
   ],
   "id": "2273f9a409140dd4"
  },
  {
   "cell_type": "markdown",
   "metadata": {},
   "source": [
    "## Agents\n",
    "\n",
    "The park is populated by agents. Agents visit attractions and activities. They make decisions about where to go based on their preferences, the popularity of attractions and activities and waiting times. Each Agent has a behavioral archetype.\n",
    "\n",
    "- Ride Enthusiast: wants to stay for a long time, go on as many attractions as possible, doesn't want to visit activites, doesn't mind waiting\n",
    "- Ride Favorer: wants to go on a lot of attractions, but will vists activites occasionally, will wait for a while in a queue\n",
    "- Park Tourer: wants to stay for a long time and wants to see attractions and activities equally, reasonable about wait times\n",
    "- Park Visitor: doesn't want to stay long and wants to see attractions and activities equally, inpatient about wait times\n",
    "- Activity Favorer: doesn't want to stay long and prefers activities, reasonable about wait times\n",
    "- Activity Enthusiast: wants to visit a lot of activities, reasonable about wait times\n",
    "\n",
    "Archetypes can be tweaked and new archetypes can be added in `behavior_reference.py`. \n",
    "\n",
    "- Agent Archetype Distribution: dictates the probability an agent will have a particular behavioral archetype\n"
   ],
   "id": "58f8fdfe9219294"
  },
  {
   "cell_type": "code",
   "execution_count": 20,
   "metadata": {
    "ExecuteTime": {
     "end_time": "2024-03-22T15:12:09.182340Z",
     "start_time": "2024-03-22T15:12:09.179403Z"
    }
   },
   "outputs": [],
   "source": [
    "AGENT_ARCHETYPE_DISTRIBUTION = {\n",
    "    \"ride_enthusiast\": 10,\n",
    "    \"ride_favorer\": 15,\n",
    "    \"park_tourer\": 25,\n",
    "    \"park_visitor\": 30,\n",
    "    \"activity_favorer\": 15,\n",
    "    \"activity_enthusiast\": 5,\n",
    "}\n"
   ],
   "id": "84ca747fe6506f5"
  },
  {
   "cell_type": "markdown",
   "metadata": {},
   "source": [
    "## Attractions\n",
    "\n",
    "Attractions are essentially rides within a park. \n",
    "\n",
    "- Attractions: list of dictionaries that describe the attractions within the park\n",
    "    - Name: name of the attraction\n",
    "    - Run Time: How long the attraction take to run, in minutes\n",
    "    - Capacity: Maximium number of agents that can be on the attraction during a run\n",
    "    - Popularity: Value from 1-10 that describes how popular an attraction is with respect to other attractions\n",
    "    - Expedited Queue: Dictates whether the attraction has an expedited queue or not\n",
    "    - Expedited Queue Ratio: Dictates what percentage of attraction capacity is devoted to members of the expedited queue\n",
    "    - Child Eligible: Dictates whether children can ride the attraction\n",
    "    - Adult Eligible: Dictates whether adults can ride the attraction"
   ],
   "id": "e1a36fe87de668ab"
  },
  {
   "cell_type": "code",
   "execution_count": 21,
   "metadata": {
    "ExecuteTime": {
     "end_time": "2024-03-22T15:12:09.186546Z",
     "start_time": "2024-03-22T15:12:09.183345Z"
    }
   },
   "outputs": [],
   "source": [
    "ATTRACTIONS = [\n",
    "    {\n",
    "        \"name\": \"Python\",\n",
    "        \"run_time\": 2.133,\n",
    "        \"hourly_throughput\": 1440,\n",
    "        \"popularity\": 6.751,\n",
    "        \"expedited_queue\": False,\n",
    "        \"expedited_queue_ratio\": 0.8,\n",
    "        \"child_eligible\": True,\n",
    "        \"adult_eligible\": True,\n",
    "    },\n",
    "    {\n",
    "        \"name\": \"Joris en de Draak\",\n",
    "        \"run_time\": 2,\n",
    "        \"hourly_throughput\": 1700,\n",
    "        \"popularity\": 9.163,\n",
    "        \"expedited_queue\": False,\n",
    "        \"expedited_queue_ratio\": 0.8,\n",
    "        \"child_eligible\": True,\n",
    "        \"adult_eligible\": True,\n",
    "    },\n",
    "    {\n",
    "        \"name\": \"Vliegende Hollander\",\n",
    "        \"run_time\": 3.7167,\n",
    "        \"hourly_throughput\": 1900,\n",
    "        \"popularity\": 10,\n",
    "        \"expedited_queue\": False,\n",
    "        \"expedited_queue_ratio\": 0.8,\n",
    "        \"child_eligible\": True,\n",
    "        \"adult_eligible\": True,\n",
    "    },\n",
    "    {\n",
    "        \"name\": \"Baron 1898\",\n",
    "        \"run_time\": 2.16666666666,\n",
    "        \"hourly_throughput\": 900,\n",
    "        \"popularity\": 4.490,\n",
    "        \"expedited_queue\": False,\n",
    "        \"expedited_queue_ratio\": 0.8,\n",
    "        \"child_eligible\": True,\n",
    "        \"adult_eligible\": False,\n",
    "    },\n",
    "    {\n",
    "        \"name\": \"Kinderspoor\",\n",
    "        \"run_time\": 2,\n",
    "        \"hourly_throughput\": 420,\n",
    "        \"popularity\": 1.096,\n",
    "        \"expedited_queue\": True,\n",
    "        \"expedited_queue_ratio\": 0.8,\n",
    "        \"child_eligible\": True,\n",
    "        \"adult_eligible\": False,\n",
    "    },\n",
    "    {\n",
    "        \"name\": \"De oude tufferbaan\",\n",
    "        \"run_time\": 4,\n",
    "        \"hourly_throughput\": 1200,\n",
    "        \"popularity\": 5.083,\n",
    "        \"expedited_queue\": False,\n",
    "        \"expedited_queue_ratio\": 0.8,\n",
    "        \"child_eligible\": True,\n",
    "        \"adult_eligible\": False,\n",
    "    },\n",
    "    {\n",
    "        \"name\": \"Halve maan\",\n",
    "        \"run_time\": 3,\n",
    "        \"hourly_throughput\": 1200,\n",
    "        \"popularity\": 4.698,\n",
    "        \"expedited_queue\": False,\n",
    "        \"expedited_queue_ratio\": 0.8,\n",
    "        \"child_eligible\": False,\n",
    "        \"adult_eligible\": True,\n",
    "    }\n",
    "]"
   ],
   "id": "964c176da1fb0e98"
  },
  {
   "cell_type": "markdown",
   "metadata": {},
   "source": [
    "## Activities\n",
    "Activities are everything to do within the park that isn't an attraction. \n",
    "\n",
    "- Activities: list of dictionaries that describe activities within the park\n",
    "    - Name: name of the activity\n",
    "    - Popularity: Value from 1-10 that describes how popular an activity is with respect to other activities\n",
    "    - Mean Time: The expected time agents will spend at an activity"
   ],
   "id": "21d667d966b166bb"
  },
  {
   "cell_type": "code",
   "execution_count": 22,
   "metadata": {
    "ExecuteTime": {
     "end_time": "2024-03-22T15:12:09.189642Z",
     "start_time": "2024-03-22T15:12:09.186546Z"
    }
   },
   "outputs": [],
   "source": [
    "ACTIVITIES = [\n",
    "    {\n",
    "      \"name\": \"sightseeing\",\n",
    "      \"popularity\": 5,\n",
    "      \"mean_time\": 5\n",
    "    },\n",
    "    {\n",
    "      \"name\": \"show\",\n",
    "      \"popularity\": 5,\n",
    "      \"mean_time\": 30\n",
    "    },\n",
    "    {\n",
    "      \"name\": \"merchandise\",\n",
    "      \"popularity\": 5,\n",
    "      \"mean_time\": 30\n",
    "    },\n",
    "    {\n",
    "      \"name\": \"food\",\n",
    "      \"popularity\": 5,\n",
    "      \"mean_time\": 45\n",
    "    }\n",
    "  ]"
   ],
   "id": "34aa0a61ba3f4558"
  },
  {
   "cell_type": "markdown",
   "metadata": {},
   "source": [
    "## Plots\n",
    "\n",
    "Set the Y limit of plots"
   ],
   "id": "385d247923e8bb6a"
  },
  {
   "cell_type": "code",
   "execution_count": 23,
   "metadata": {
    "ExecuteTime": {
     "end_time": "2024-03-22T15:12:09.192860Z",
     "start_time": "2024-03-22T15:12:09.189642Z"
    }
   },
   "outputs": [],
   "source": [
    "PLOT_RANGE = {\n",
    "    \"Attraction Queue Length\": 1800,\n",
    "    \"Attraction Wait Time\": 200,\n",
    "    \"Attraction Expedited Queue Length\": 6000,\n",
    "    \"Attraction Expedited Wait Time\": 500,\n",
    "    \"Activity Vistors\": 20000,\n",
    "    \"Approximate Agent Distribution (General)\": 1.0,\n",
    "    \"Approximate Agent Distribution (Specific)\": 1.0,\n",
    "    \"Attraction Average Wait Times\": 120,\n",
    "    \"Agent Attractions Histogram\": 1.0,\n",
    "    \"Attraction Total Visits\": 46000,\n",
    "    \"Expedited Pass Distribution\": 150000,\n",
    "    \"Age Class Distribution\": 20000,\n",
    "}"
   ],
   "id": "2d4addda25b1a466"
  },
  {
   "cell_type": "markdown",
   "metadata": {},
   "source": [
    "## Simulation\n",
    "\n",
    "Run the simulation here."
   ],
   "id": "df66c9c0c77dad2a"
  },
  {
   "cell_type": "code",
   "execution_count": null,
   "metadata": {
    "scrolled": false,
    "is_executing": true,
    "ExecuteTime": {
     "start_time": "2024-03-22T15:12:09.192860Z"
    }
   },
   "outputs": [],
   "source": [
    "# Initialize Park\n",
    "RNG_SEED = 5\n",
    "\n",
    "park = Park(\n",
    "    attraction_list=ATTRACTIONS,\n",
    "    activity_list=ACTIVITIES,\n",
    "    plot_range=PLOT_RANGE,\n",
    "    random_seed=RNG_SEED,\n",
    "    version=VERSION,\n",
    "    verbosity=VERBOSITY\n",
    ")\n",
    "\n",
    "# Build Arrivals\n",
    "\n",
    "park.generate_arrival_schedule(\n",
    "    arrival_seed=HOURLY_PERCENT, \n",
    "    total_daily_agents=TOTAL_DAILY_AGENTS, \n",
    "    perfect_arrivals=PERFECT_ARRIVALS,\n",
    ")\n",
    "\n",
    "# Build Agents\n",
    "park.generate_agents(\n",
    "    behavior_archetype_distribution=AGENT_ARCHETYPE_DISTRIBUTION,\n",
    "    exp_ability_pct=EXP_ABILITY_PCT,\n",
    "    exp_wait_threshold=EXP_THRESHOLD,\n",
    "    exp_limit=EXP_LIMIT\n",
    ")\n",
    "\n",
    "# Build Attractions + Activities\n",
    "park.generate_attractions()\n",
    "park.generate_activities()\n",
    "\n",
    "# Pass Time\n",
    "for _ in range(len(HOURLY_PERCENT.keys()) * 60):\n",
    "    park.step()\n",
    "\n",
    "# Save Parameters of Current Run\n",
    "sim_parameters = {\n",
    "    \"VERSION\": VERSION,\n",
    "    \"VERBOSITY\": VERBOSITY,\n",
    "    \"SHOW_PLOTS\": SHOW_PLOTS,\n",
    "    \"RNG_SEED\": RNG_SEED,\n",
    "    \"TOTAL_DAILY_AGENTS\": TOTAL_DAILY_AGENTS,\n",
    "    \"PERFECT_ARRIVALS\": PERFECT_ARRIVALS,\n",
    "    \"HOURLY_PERCENT\": HOURLY_PERCENT,\n",
    "    \"EXP_ABILITY_PCT\": EXP_ABILITY_PCT,\n",
    "    \"EXP_THRESHOLD\": EXP_THRESHOLD,\n",
    "    \"EXP_LIMIT\": EXP_LIMIT,\n",
    "    \"AGENT_ARCHETYPE_DISTRIBUTION\": AGENT_ARCHETYPE_DISTRIBUTION,\n",
    "    \"ATTRACTIONS\": ATTRACTIONS,\n",
    "    \"ACTIVITIES\": ACTIVITIES,\n",
    "    \"BEHAVIOR_ARCHETYPE_PARAMETERS\": BEHAVIOR_ARCHETYPE_PARAMETERS,\n",
    "}\n",
    "park.write_data_to_file(\n",
    "    data=sim_parameters, \n",
    "    output_file_path=f\"{VERSION}/parameters\", \n",
    "    output_file_format=\"json\"\n",
    ")\n",
    "\n",
    "# Store + Print Data\n",
    "park.make_plots(show=SHOW_PLOTS)\n",
    "park.print_logs(N = 5)\n",
    "#park.print_logs(selected_agent_ids = [778])"
   ],
   "id": "f35df08770e0ce31"
  },
  {
   "cell_type": "code",
   "outputs": [],
   "source": [],
   "metadata": {
    "collapsed": false,
    "is_executing": true
   },
   "id": "aba259278d28cb69",
   "execution_count": null
  }
 ],
 "metadata": {
  "kernelspec": {
   "display_name": "Python 3",
   "language": "python",
   "name": "python3"
  },
  "language_info": {
   "codemirror_mode": {
    "name": "ipython",
    "version": 3
   },
   "file_extension": ".py",
   "mimetype": "text/x-python",
   "name": "python",
   "nbconvert_exporter": "python",
   "pygments_lexer": "ipython3",
   "version": "3.7.3"
  }
 },
 "nbformat": 4,
 "nbformat_minor": 5
}
